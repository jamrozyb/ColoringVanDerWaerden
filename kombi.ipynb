{
 "cells": [
  {
   "cell_type": "code",
   "execution_count": 360,
   "id": "7b705db0",
   "metadata": {},
   "outputs": [],
   "source": [
    "import copy\n",
    "import math\n",
    "import random\n",
    "\n",
    "class Game:\n",
    "    \n",
    "    \n",
    "    def __init__(self,n,k):\n",
    "        \n",
    "        # check whether arguments are valid\n",
    "        if n<5 or k<=2 or 2*k-1>=n:\n",
    "            raise ValueError('Invalid arguments.')\n",
    "        self.n = n    \n",
    "        self.k = k\n",
    "        \n",
    "        self.tab = [i+1 for i in range(n)]\n",
    "        self.properties = [0 for i in range(n)]\n",
    "        self.players = [[],[]]\n",
    "        \n",
    "        self.subsequences = []\n",
    "        \n",
    "        \n",
    "        \n",
    "        #we start from any number\n",
    "        for i in range(n-k+1):\n",
    "            #we get any possible difference between elements in a subsequence\n",
    "            for r in range(int((n-1)/(k-1))):\n",
    "                this_subsequence = []\n",
    "                #we build a subsequence of given length k\n",
    "                for l in range(k):\n",
    "                    if i+(r+1)*l<n:\n",
    "                        this_subsequence.append(self.tab[i+(r+1)*l])\n",
    "                if len(this_subsequence)==k:\n",
    "                    self.subsequences.append(this_subsequence)\n",
    "                    \n",
    "                    \n",
    "        # tab contain all players subsequences possible in future,             \n",
    "        self.possible_players_subsequences = [copy.deepcopy(self.subsequences),copy.deepcopy(self.subsequences)]\n",
    "        number_all_subsequences = len(self.subsequences)\n",
    "        \n",
    "        # tab contains how many numbers of each subsequences payer have chose\n",
    "        self.score_players_subsequences=[[0 for i in range(number_all_subsequences)],[0 for i in range(number_all_subsequences)]]\n",
    "        \n",
    "    def choose_number(self,player,i):\n",
    "        if self.properties[i-1]!=0:\n",
    "            print(f\"Number {i} is already occupied. Choose another number.\")\n",
    "        else:\n",
    "            print(f\"Player {player} chooses number {i}.\")\n",
    "            self.properties[i-1]=player\n",
    "            self.players[player-1].append(i)\n",
    "            print(self.tab)\n",
    "            print(self.properties)\n",
    "            \n",
    "            print(self.players)\n",
    "\n",
    "            self.update_possible_subsequences_and_scores(player,i)\n",
    "        \n",
    "    def update_possible_subsequences_and_scores(self,player,i):\n",
    "        second_player=self.other_player(player)\n",
    "            \n",
    "        # delate possible subsequences in other player wich contain chooses number \n",
    "        for j in reversed(range(len(self.possible_players_subsequences[second_player-1]))):\n",
    "            if i in self.possible_players_subsequences[second_player-1][j]:\n",
    "               self.possible_players_subsequences[second_player-1].pop(j) \n",
    "               self.score_players_subsequences[second_player-1].pop(j)       \n",
    "                \n",
    "        \n",
    "        # update score of possible subsequences, plus one in which contains choose number\n",
    "        for j in range(len(self.possible_players_subsequences[player-1])):\n",
    "            if i in self.possible_players_subsequences[player-1][j]:\n",
    "                self.score_players_subsequences[player-1][j] += 1\n",
    "                \n",
    "        print(\"possible_players_subsequences:\")\n",
    "        print(self.possible_players_subsequences[0])\n",
    "        print(self.possible_players_subsequences[1])\n",
    "        \n",
    "        print(\"score_players_subsequences:\")\n",
    "        print(self.score_players_subsequences[0])\n",
    "        print(self.score_players_subsequences[1])\n",
    "    \n",
    "    def losing_condition(self,last_player):\n",
    "        end = False\n",
    "        for subsequence in self.subsequences:\n",
    "            if end == True:\n",
    "                print(f\"Player number {last_player} has lost.\")\n",
    "                return \n",
    "            this_end = True\n",
    "            for i in range(len(subsequence)):\n",
    "                if subsequence[i] not in self.players[last_player-1]:\n",
    "                    this_end = False\n",
    "            end = end + this_end\n",
    "        print(\"Game has not ended yet.\")\n",
    "        \n",
    "    def draw_condition(self): #check after losing conditions\n",
    "        # if no empty field\n",
    "        if not 0 in self.properties:\n",
    "            print(\"Game end, draw\") \n",
    "            \n",
    "    def computer_movement(self,player,strategy=\"defensive\"):\n",
    "        second_player=self.other_player(player)\n",
    "        \n",
    "        if (strategy==\"defensive\"):\n",
    "            occurrences = [0]*self.n\n",
    "            for i, j in enumerate(self.properties):\n",
    "                # fied empty\n",
    "                if (j==0):\n",
    "                    # count how many possibles subsequences contains field \"j\" \n",
    "                    for subsequences_i, subsequences in enumerate(self.possible_players_subsequences[player-1]):\n",
    "                        if i+1 in subsequences:\n",
    "                            occurrences[i] +=1\n",
    "                            \n",
    "                        # if payer have chosen all fields from subsequences apart from\n",
    "                        #field \"j\", choose it is loose    \n",
    "                        if  (self.score_players_subsequences[player-1][subsequences_i] == (self.k - 1)):\n",
    "                            occurrences[i] = math.inf\n",
    "                # field not empty    \n",
    "                else:\n",
    "                    occurrences[i] = math.inf\n",
    "            print(\"occurrences\")\n",
    "            print(occurrences)\n",
    "\n",
    "            if (min(occurrences) == math.inf):\n",
    "                # player loose in any case, so we take firts available field\n",
    "                prefer_field = self.available_fields()[0]\n",
    "\n",
    "            else :\n",
    "                # take field which appear at least times possible sequences\n",
    "                prefer_field= occurrences.index(min(occurrences)) \n",
    "\n",
    "            print (\"prefer_field:\", prefer_field)  \n",
    "\n",
    "            self.choose_number(player,prefer_field +1 )   \n",
    "          \n",
    "        \n",
    "        elif (strategy==\"offensive\"):\n",
    "            occurrences = [0]*self.n\n",
    "            for i, j in enumerate(self.properties):\n",
    "                # fied empty\n",
    "                if (j==0):\n",
    "                    # count in how many possibles subsequences in second player contains field \"j\" \n",
    "                    for subsequences_i, subsequences in enumerate(self.possible_players_subsequences[second_player-1]):\n",
    "                        if i+1 in subsequences:\n",
    "                            occurrences[i] +=1\n",
    "                            \n",
    "                        #if payer have chosen all fields from subsequences apart from\n",
    "                        #field \"j\", choose it is loose  \n",
    "                    for subsequences_i, subsequences in enumerate(self.possible_players_subsequences[player-1]):    \n",
    "                        if  (self.score_players_subsequences[player-1][subsequences_i] == (self.k - 1)):\n",
    "                           occurrences[i] = math.inf\n",
    "                # field not empty    \n",
    "                else:\n",
    "                    occurrences[i] = math.inf\n",
    "            print(\"occurrences\")\n",
    "            print(occurrences)\n",
    "\n",
    "            if (min(occurrences) == math.inf):\n",
    "                # player loose in any case, so we take firts available field\n",
    "                prefer_field = self.available_fields()[0]\n",
    "\n",
    "            else :\n",
    "                # take field which appear at least times  in second player possible sequences\n",
    "                prefer_field= occurrences.index(min(occurrences)) \n",
    "\n",
    "            print (\"prefer_field:\", prefer_field)  \n",
    "\n",
    "            self.choose_number(player,prefer_field +1 )   \n",
    "            \n",
    "            \n",
    "            \n",
    "        elif (strategy==\"random\"):\n",
    "            available = self.available_fields()\n",
    "            n = len(available)\n",
    "            prefer_field =available[random.randint(0, n-1)]\n",
    "            self.choose_number(player,prefer_field +1 ) \n",
    "            \n",
    "        else : print (\"wrong strategy\")    \n",
    "            \n",
    "    def available_fields(self):\n",
    "        print(\"properties\")\n",
    "        print(self.properties)\n",
    "        field=[]\n",
    "        for i, j in enumerate(self.properties):\n",
    "            if (j==0):\n",
    "                field.append(i)\n",
    "        return field\n",
    "    \n",
    "    def other_player(self,player):\n",
    "        second_player=2\n",
    "        if (player == 2):\n",
    "            second_player=1\n",
    "        return second_player    \n",
    "        "
   ]
  },
  {
   "cell_type": "code",
   "execution_count": 174,
   "id": "a0c6aee9",
   "metadata": {},
   "outputs": [
    {
     "name": "stdout",
     "output_type": "stream",
     "text": [
      "[[1, 2, 3], [1, 3, 5], [1, 4, 7], [1, 5, 9], [2, 3, 4], [2, 4, 6], [2, 5, 8], [2, 6, 10], [3, 4, 5], [3, 5, 7], [3, 6, 9], [4, 5, 6], [4, 6, 8], [4, 7, 10], [5, 6, 7], [5, 7, 9], [6, 7, 8], [6, 8, 10], [7, 8, 9], [8, 9, 10]]\n",
      "Player 1 chooses number 1.\n",
      "[1, 2, 3, 4, 5, 6, 7, 8, 9, 10]\n",
      "[1, 0, 0, 0, 0, 0, 0, 0, 0, 0]\n",
      "[[1], []]\n",
      "possible_players_subsequences:\n",
      "[[1, 2, 3], [1, 3, 5], [1, 4, 7], [1, 5, 9], [2, 3, 4], [2, 4, 6], [2, 5, 8], [2, 6, 10], [3, 4, 5], [3, 5, 7], [3, 6, 9], [4, 5, 6], [4, 6, 8], [4, 7, 10], [5, 6, 7], [5, 7, 9], [6, 7, 8], [6, 8, 10], [7, 8, 9], [8, 9, 10]]\n",
      "[[2, 3, 4], [2, 4, 6], [2, 5, 8], [2, 6, 10], [3, 4, 5], [3, 5, 7], [3, 6, 9], [4, 5, 6], [4, 6, 8], [4, 7, 10], [5, 6, 7], [5, 7, 9], [6, 7, 8], [6, 8, 10], [7, 8, 9], [8, 9, 10]]\n",
      "score_players_subsequences:\n",
      "[1, 1, 1, 1, 0, 0, 0, 0, 0, 0, 0, 0, 0, 0, 0, 0, 0, 0, 0, 0]\n",
      "[0, 0, 0, 0, 0, 0, 0, 0, 0, 0, 0, 0, 0, 0, 0, 0]\n",
      "Game has not ended yet.\n",
      "occurrences\n",
      "[inf, 4, 4, 6, 6, 8, 6, 6, 4, 4]\n",
      "prefer_field: 1\n",
      "Player 2 chooses number 2.\n",
      "[1, 2, 3, 4, 5, 6, 7, 8, 9, 10]\n",
      "[1, 2, 0, 0, 0, 0, 0, 0, 0, 0]\n",
      "[[1], [2]]\n",
      "possible_players_subsequences:\n",
      "[[1, 3, 5], [1, 4, 7], [1, 5, 9], [3, 4, 5], [3, 5, 7], [3, 6, 9], [4, 5, 6], [4, 6, 8], [4, 7, 10], [5, 6, 7], [5, 7, 9], [6, 7, 8], [6, 8, 10], [7, 8, 9], [8, 9, 10]]\n",
      "[[2, 3, 4], [2, 4, 6], [2, 5, 8], [2, 6, 10], [3, 4, 5], [3, 5, 7], [3, 6, 9], [4, 5, 6], [4, 6, 8], [4, 7, 10], [5, 6, 7], [5, 7, 9], [6, 7, 8], [6, 8, 10], [7, 8, 9], [8, 9, 10]]\n",
      "score_players_subsequences:\n",
      "[1, 1, 1, 0, 0, 0, 0, 0, 0, 0, 0, 0, 0, 0, 0]\n",
      "[1, 1, 1, 1, 0, 0, 0, 0, 0, 0, 0, 0, 0, 0, 0, 0]\n",
      "Game has not ended yet.\n"
     ]
    }
   ],
   "source": [
    "g = Game(10,3)\n",
    "print(g.subsequences)\n",
    "g.choose_number(1,1)\n",
    "g.losing_condition(1)\n",
    "g.draw_condition()\n",
    "\n",
    "g.computer_movement(2)\n",
    "g.losing_condition(2)\n",
    "g.draw_condition()\n"
   ]
  },
  {
   "cell_type": "code",
   "execution_count": 175,
   "id": "061d327b",
   "metadata": {},
   "outputs": [
    {
     "name": "stdout",
     "output_type": "stream",
     "text": [
      "Player 1 chooses number 3.\n",
      "[1, 2, 3, 4, 5, 6, 7, 8, 9, 10]\n",
      "[1, 2, 1, 0, 0, 0, 0, 0, 0, 0]\n",
      "[[1, 3], [2]]\n",
      "possible_players_subsequences:\n",
      "[[1, 3, 5], [1, 4, 7], [1, 5, 9], [3, 4, 5], [3, 5, 7], [3, 6, 9], [4, 5, 6], [4, 6, 8], [4, 7, 10], [5, 6, 7], [5, 7, 9], [6, 7, 8], [6, 8, 10], [7, 8, 9], [8, 9, 10]]\n",
      "[[2, 4, 6], [2, 5, 8], [2, 6, 10], [4, 5, 6], [4, 6, 8], [4, 7, 10], [5, 6, 7], [5, 7, 9], [6, 7, 8], [6, 8, 10], [7, 8, 9], [8, 9, 10]]\n",
      "score_players_subsequences:\n",
      "[2, 1, 1, 1, 1, 1, 0, 0, 0, 0, 0, 0, 0, 0, 0]\n",
      "[1, 1, 1, 0, 0, 0, 0, 0, 0, 0, 0, 0]\n",
      "Game has not ended yet.\n"
     ]
    }
   ],
   "source": [
    "g.choose_number(1,3)\n",
    "g.losing_condition(1)\n",
    "g.draw_condition()\n",
    "\n"
   ]
  },
  {
   "cell_type": "code",
   "execution_count": 176,
   "id": "db6fe1b4",
   "metadata": {},
   "outputs": [
    {
     "name": "stdout",
     "output_type": "stream",
     "text": [
      "occurrences\n",
      "[inf, inf, inf, 4, 4, 7, 5, 6, 3, 4]\n",
      "prefer_field: 8\n",
      "Player 2 chooses number 9.\n",
      "[1, 2, 3, 4, 5, 6, 7, 8, 9, 10]\n",
      "[1, 2, 1, 0, 0, 0, 0, 0, 2, 0]\n",
      "[[1, 3], [2, 9]]\n",
      "possible_players_subsequences:\n",
      "[[1, 3, 5], [1, 4, 7], [3, 4, 5], [3, 5, 7], [4, 5, 6], [4, 6, 8], [4, 7, 10], [5, 6, 7], [6, 7, 8], [6, 8, 10]]\n",
      "[[2, 4, 6], [2, 5, 8], [2, 6, 10], [4, 5, 6], [4, 6, 8], [4, 7, 10], [5, 6, 7], [5, 7, 9], [6, 7, 8], [6, 8, 10], [7, 8, 9], [8, 9, 10]]\n",
      "score_players_subsequences:\n",
      "[2, 1, 1, 1, 0, 0, 0, 0, 0, 0]\n",
      "[1, 1, 1, 0, 0, 0, 0, 1, 0, 0, 1, 1]\n",
      "Game has not ended yet.\n"
     ]
    }
   ],
   "source": [
    "g.computer_movement(2)\n",
    "g.losing_condition(2)\n",
    "g.draw_condition()"
   ]
  },
  {
   "cell_type": "code",
   "execution_count": 177,
   "id": "58c82d05",
   "metadata": {},
   "outputs": [
    {
     "name": "stdout",
     "output_type": "stream",
     "text": [
      "Player 1 chooses number 10.\n",
      "[1, 2, 3, 4, 5, 6, 7, 8, 9, 10]\n",
      "[1, 2, 1, 0, 0, 0, 0, 0, 2, 1]\n",
      "[[1, 3, 10], [2, 9]]\n",
      "possible_players_subsequences:\n",
      "[[1, 3, 5], [1, 4, 7], [3, 4, 5], [3, 5, 7], [4, 5, 6], [4, 6, 8], [4, 7, 10], [5, 6, 7], [6, 7, 8], [6, 8, 10]]\n",
      "[[2, 4, 6], [2, 5, 8], [4, 5, 6], [4, 6, 8], [5, 6, 7], [5, 7, 9], [6, 7, 8], [7, 8, 9]]\n",
      "score_players_subsequences:\n",
      "[2, 1, 1, 1, 0, 0, 1, 0, 0, 1]\n",
      "[1, 1, 0, 0, 0, 1, 0, 1]\n",
      "Game has not ended yet.\n"
     ]
    }
   ],
   "source": [
    "g.choose_number(1,10)\n",
    "g.losing_condition(1)\n",
    "g.draw_condition()"
   ]
  },
  {
   "cell_type": "code",
   "execution_count": 178,
   "id": "05892aee",
   "metadata": {},
   "outputs": [
    {
     "name": "stdout",
     "output_type": "stream",
     "text": [
      "occurrences\n",
      "[inf, inf, inf, 3, 4, 5, 4, 4, inf, inf]\n",
      "prefer_field: 3\n",
      "Player 2 chooses number 4.\n",
      "[1, 2, 3, 4, 5, 6, 7, 8, 9, 10]\n",
      "[1, 2, 1, 2, 0, 0, 0, 0, 2, 1]\n",
      "[[1, 3, 10], [2, 9, 4]]\n",
      "possible_players_subsequences:\n",
      "[[1, 3, 5], [3, 5, 7], [5, 6, 7], [6, 7, 8], [6, 8, 10]]\n",
      "[[2, 4, 6], [2, 5, 8], [4, 5, 6], [4, 6, 8], [5, 6, 7], [5, 7, 9], [6, 7, 8], [7, 8, 9]]\n",
      "score_players_subsequences:\n",
      "[2, 1, 0, 0, 1]\n",
      "[2, 1, 1, 1, 0, 1, 0, 1]\n",
      "Game has not ended yet.\n"
     ]
    }
   ],
   "source": [
    "g.computer_movement(2)\n",
    "g.losing_condition(2)\n",
    "g.draw_condition()"
   ]
  },
  {
   "cell_type": "code",
   "execution_count": 179,
   "id": "4f4cdb86",
   "metadata": {},
   "outputs": [
    {
     "name": "stdout",
     "output_type": "stream",
     "text": [
      "Player 1 chooses number 6.\n",
      "[1, 2, 3, 4, 5, 6, 7, 8, 9, 10]\n",
      "[1, 2, 1, 2, 0, 1, 0, 0, 2, 1]\n",
      "[[1, 3, 10, 6], [2, 9, 4]]\n",
      "possible_players_subsequences:\n",
      "[[1, 3, 5], [3, 5, 7], [5, 6, 7], [6, 7, 8], [6, 8, 10]]\n",
      "[[2, 5, 8], [5, 7, 9], [7, 8, 9]]\n",
      "score_players_subsequences:\n",
      "[2, 1, 1, 1, 2]\n",
      "[1, 1, 1]\n",
      "Game has not ended yet.\n"
     ]
    }
   ],
   "source": [
    "g.choose_number(1,6)\n",
    "g.losing_condition(1)\n",
    "g.draw_condition()"
   ]
  },
  {
   "cell_type": "code",
   "execution_count": 180,
   "id": "bc5581e8",
   "metadata": {},
   "outputs": [
    {
     "name": "stdout",
     "output_type": "stream",
     "text": [
      "occurrences\n",
      "[inf, inf, inf, inf, 2, inf, 2, 2, inf, inf]\n",
      "prefer_field: 4\n",
      "Player 2 chooses number 5.\n",
      "[1, 2, 3, 4, 5, 6, 7, 8, 9, 10]\n",
      "[1, 2, 1, 2, 2, 1, 0, 0, 2, 1]\n",
      "[[1, 3, 10, 6], [2, 9, 4, 5]]\n",
      "possible_players_subsequences:\n",
      "[[6, 7, 8], [6, 8, 10]]\n",
      "[[2, 5, 8], [5, 7, 9], [7, 8, 9]]\n",
      "score_players_subsequences:\n",
      "[1, 2]\n",
      "[2, 2, 1]\n",
      "Game has not ended yet.\n"
     ]
    }
   ],
   "source": [
    "g.computer_movement(2)\n",
    "g.losing_condition(2)\n",
    "g.draw_condition()"
   ]
  },
  {
   "cell_type": "code",
   "execution_count": 181,
   "id": "79349e7d",
   "metadata": {},
   "outputs": [
    {
     "name": "stdout",
     "output_type": "stream",
     "text": [
      "Player 1 chooses number 7.\n",
      "[1, 2, 3, 4, 5, 6, 7, 8, 9, 10]\n",
      "[1, 2, 1, 2, 2, 1, 1, 0, 2, 1]\n",
      "[[1, 3, 10, 6, 7], [2, 9, 4, 5]]\n",
      "possible_players_subsequences:\n",
      "[[6, 7, 8], [6, 8, 10]]\n",
      "[[2, 5, 8]]\n",
      "score_players_subsequences:\n",
      "[2, 2]\n",
      "[2]\n",
      "Game has not ended yet.\n"
     ]
    }
   ],
   "source": [
    "g.choose_number(1,7)\n",
    "g.losing_condition(1)\n",
    "g.draw_condition()"
   ]
  },
  {
   "cell_type": "code",
   "execution_count": 182,
   "id": "271074ec",
   "metadata": {},
   "outputs": [
    {
     "name": "stdout",
     "output_type": "stream",
     "text": [
      "occurrences\n",
      "[inf, inf, inf, inf, inf, inf, inf, inf, inf, inf]\n",
      "properties\n",
      "[1, 2, 1, 2, 2, 1, 1, 0, 2, 1]\n",
      "prefer_field: 7\n",
      "Player 2 chooses number 8.\n",
      "[1, 2, 3, 4, 5, 6, 7, 8, 9, 10]\n",
      "[1, 2, 1, 2, 2, 1, 1, 2, 2, 1]\n",
      "[[1, 3, 10, 6, 7], [2, 9, 4, 5, 8]]\n",
      "possible_players_subsequences:\n",
      "[]\n",
      "[[2, 5, 8]]\n",
      "score_players_subsequences:\n",
      "[]\n",
      "[3]\n",
      "Player number 2 has lost.\n",
      "Game end, draw\n"
     ]
    }
   ],
   "source": [
    "g.computer_movement(2)\n",
    "g.losing_condition(2)\n",
    "g.draw_condition()"
   ]
  },
  {
   "cell_type": "code",
   "execution_count": null,
   "id": "ec6bf4fa",
   "metadata": {},
   "outputs": [],
   "source": []
  },
  {
   "cell_type": "code",
   "execution_count": null,
   "id": "e468c1ad",
   "metadata": {},
   "outputs": [],
   "source": []
  },
  {
   "cell_type": "code",
   "execution_count": null,
   "id": "b38fdfa0",
   "metadata": {},
   "outputs": [],
   "source": []
  },
  {
   "cell_type": "code",
   "execution_count": 389,
   "id": "ae252439",
   "metadata": {},
   "outputs": [],
   "source": [
    "random.seed = 123"
   ]
  },
  {
   "cell_type": "code",
   "execution_count": 390,
   "id": "8d7f6488",
   "metadata": {},
   "outputs": [
    {
     "name": "stdout",
     "output_type": "stream",
     "text": [
      "[[1, 2, 3], [1, 3, 5], [1, 4, 7], [1, 5, 9], [2, 3, 4], [2, 4, 6], [2, 5, 8], [2, 6, 10], [3, 4, 5], [3, 5, 7], [3, 6, 9], [4, 5, 6], [4, 6, 8], [4, 7, 10], [5, 6, 7], [5, 7, 9], [6, 7, 8], [6, 8, 10], [7, 8, 9], [8, 9, 10]]\n",
      "properties\n",
      "[0, 0, 0, 0, 0, 0, 0, 0, 0, 0]\n",
      "Player 1 chooses number 7.\n",
      "[1, 2, 3, 4, 5, 6, 7, 8, 9, 10]\n",
      "[0, 0, 0, 0, 0, 0, 1, 0, 0, 0]\n",
      "[[7], []]\n",
      "possible_players_subsequences:\n",
      "[[1, 2, 3], [1, 3, 5], [1, 4, 7], [1, 5, 9], [2, 3, 4], [2, 4, 6], [2, 5, 8], [2, 6, 10], [3, 4, 5], [3, 5, 7], [3, 6, 9], [4, 5, 6], [4, 6, 8], [4, 7, 10], [5, 6, 7], [5, 7, 9], [6, 7, 8], [6, 8, 10], [7, 8, 9], [8, 9, 10]]\n",
      "[[1, 2, 3], [1, 3, 5], [1, 5, 9], [2, 3, 4], [2, 4, 6], [2, 5, 8], [2, 6, 10], [3, 4, 5], [3, 6, 9], [4, 5, 6], [4, 6, 8], [6, 8, 10], [8, 9, 10]]\n",
      "score_players_subsequences:\n",
      "[0, 0, 1, 0, 0, 0, 0, 0, 0, 1, 0, 0, 0, 1, 1, 1, 1, 0, 1, 0]\n",
      "[0, 0, 0, 0, 0, 0, 0, 0, 0, 0, 0, 0, 0]\n",
      "Game has not ended yet.\n"
     ]
    }
   ],
   "source": [
    "g = Game(10,3)\n",
    "print(g.subsequences)\n",
    "g.computer_movement(1,strategy=\"random\")\n",
    "g.losing_condition(1)\n",
    "g.draw_condition()"
   ]
  },
  {
   "cell_type": "code",
   "execution_count": 391,
   "id": "8b7923a9",
   "metadata": {},
   "outputs": [
    {
     "name": "stdout",
     "output_type": "stream",
     "text": [
      "[[1, 2, 3], [1, 3, 5], [1, 4, 7], [1, 5, 9], [2, 3, 4], [2, 4, 6], [2, 5, 8], [2, 6, 10], [3, 4, 5], [3, 5, 7], [3, 6, 9], [4, 5, 6], [4, 6, 8], [4, 7, 10], [5, 6, 7], [5, 7, 9], [6, 7, 8], [6, 8, 10], [7, 8, 9], [8, 9, 10]]\n",
      "occurrences\n",
      "[3, 5, 5, 5, 5, 6, inf, 4, 3, 3]\n",
      "prefer_field: 0\n",
      "Player 2 chooses number 1.\n",
      "[1, 2, 3, 4, 5, 6, 7, 8, 9, 10]\n",
      "[2, 0, 0, 0, 0, 0, 1, 0, 0, 0]\n",
      "[[7], [1]]\n",
      "possible_players_subsequences:\n",
      "[[2, 3, 4], [2, 4, 6], [2, 5, 8], [2, 6, 10], [3, 4, 5], [3, 5, 7], [3, 6, 9], [4, 5, 6], [4, 6, 8], [4, 7, 10], [5, 6, 7], [5, 7, 9], [6, 7, 8], [6, 8, 10], [7, 8, 9], [8, 9, 10]]\n",
      "[[1, 2, 3], [1, 3, 5], [1, 5, 9], [2, 3, 4], [2, 4, 6], [2, 5, 8], [2, 6, 10], [3, 4, 5], [3, 6, 9], [4, 5, 6], [4, 6, 8], [6, 8, 10], [8, 9, 10]]\n",
      "score_players_subsequences:\n",
      "[0, 0, 0, 0, 0, 1, 0, 0, 0, 1, 1, 1, 1, 0, 1, 0]\n",
      "[1, 1, 1, 0, 0, 0, 0, 0, 0, 0, 0, 0, 0]\n",
      "Game has not ended yet.\n"
     ]
    }
   ],
   "source": [
    "print(g.subsequences)\n",
    "g.computer_movement(2,strategy=\"defensive\")\n",
    "g.losing_condition(2)\n",
    "g.draw_condition()"
   ]
  },
  {
   "cell_type": "code",
   "execution_count": 392,
   "id": "045b2d9e",
   "metadata": {},
   "outputs": [
    {
     "name": "stdout",
     "output_type": "stream",
     "text": [
      "[[1, 2, 3], [1, 3, 5], [1, 4, 7], [1, 5, 9], [2, 3, 4], [2, 4, 6], [2, 5, 8], [2, 6, 10], [3, 4, 5], [3, 5, 7], [3, 6, 9], [4, 5, 6], [4, 6, 8], [4, 7, 10], [5, 6, 7], [5, 7, 9], [6, 7, 8], [6, 8, 10], [7, 8, 9], [8, 9, 10]]\n",
      "properties\n",
      "[2, 0, 0, 0, 0, 0, 1, 0, 0, 0]\n",
      "Player 1 chooses number 10.\n",
      "[1, 2, 3, 4, 5, 6, 7, 8, 9, 10]\n",
      "[2, 0, 0, 0, 0, 0, 1, 0, 0, 1]\n",
      "[[7, 10], [1]]\n",
      "possible_players_subsequences:\n",
      "[[2, 3, 4], [2, 4, 6], [2, 5, 8], [2, 6, 10], [3, 4, 5], [3, 5, 7], [3, 6, 9], [4, 5, 6], [4, 6, 8], [4, 7, 10], [5, 6, 7], [5, 7, 9], [6, 7, 8], [6, 8, 10], [7, 8, 9], [8, 9, 10]]\n",
      "[[1, 2, 3], [1, 3, 5], [1, 5, 9], [2, 3, 4], [2, 4, 6], [2, 5, 8], [3, 4, 5], [3, 6, 9], [4, 5, 6], [4, 6, 8]]\n",
      "score_players_subsequences:\n",
      "[0, 0, 0, 1, 0, 1, 0, 0, 0, 2, 1, 1, 1, 1, 1, 1]\n",
      "[1, 1, 1, 0, 0, 0, 0, 0, 0, 0]\n",
      "Game has not ended yet.\n"
     ]
    }
   ],
   "source": [
    "print(g.subsequences)\n",
    "g.computer_movement(1,strategy=\"random\")\n",
    "g.losing_condition(1)\n",
    "g.draw_condition()"
   ]
  },
  {
   "cell_type": "code",
   "execution_count": 393,
   "id": "7f8d359e",
   "metadata": {},
   "outputs": [
    {
     "name": "stdout",
     "output_type": "stream",
     "text": [
      "[[1, 2, 3], [1, 3, 5], [1, 4, 7], [1, 5, 9], [2, 3, 4], [2, 4, 6], [2, 5, 8], [2, 6, 10], [3, 4, 5], [3, 5, 7], [3, 6, 9], [4, 5, 6], [4, 6, 8], [4, 7, 10], [5, 6, 7], [5, 7, 9], [6, 7, 8], [6, 8, 10], [7, 8, 9], [8, 9, 10]]\n",
      "occurrences\n",
      "[inf, 4, 5, 5, 5, 4, inf, 2, 2, inf]\n",
      "prefer_field: 7\n",
      "Player 2 chooses number 8.\n",
      "[1, 2, 3, 4, 5, 6, 7, 8, 9, 10]\n",
      "[2, 0, 0, 0, 0, 0, 1, 2, 0, 1]\n",
      "[[7, 10], [1, 8]]\n",
      "possible_players_subsequences:\n",
      "[[2, 3, 4], [2, 4, 6], [2, 6, 10], [3, 4, 5], [3, 5, 7], [3, 6, 9], [4, 5, 6], [4, 7, 10], [5, 6, 7], [5, 7, 9]]\n",
      "[[1, 2, 3], [1, 3, 5], [1, 5, 9], [2, 3, 4], [2, 4, 6], [2, 5, 8], [3, 4, 5], [3, 6, 9], [4, 5, 6], [4, 6, 8]]\n",
      "score_players_subsequences:\n",
      "[0, 0, 1, 0, 1, 0, 0, 2, 1, 1]\n",
      "[1, 1, 1, 0, 0, 1, 0, 0, 0, 1]\n",
      "Game has not ended yet.\n"
     ]
    }
   ],
   "source": [
    "print(g.subsequences)\n",
    "g.computer_movement(2,strategy=\"defensive\")\n",
    "g.losing_condition(2)\n",
    "g.draw_condition()"
   ]
  },
  {
   "cell_type": "code",
   "execution_count": 394,
   "id": "c707953d",
   "metadata": {},
   "outputs": [
    {
     "name": "stdout",
     "output_type": "stream",
     "text": [
      "[[1, 2, 3], [1, 3, 5], [1, 4, 7], [1, 5, 9], [2, 3, 4], [2, 4, 6], [2, 5, 8], [2, 6, 10], [3, 4, 5], [3, 5, 7], [3, 6, 9], [4, 5, 6], [4, 6, 8], [4, 7, 10], [5, 6, 7], [5, 7, 9], [6, 7, 8], [6, 8, 10], [7, 8, 9], [8, 9, 10]]\n",
      "properties\n",
      "[2, 0, 0, 0, 0, 0, 1, 2, 0, 1]\n",
      "Player 1 chooses number 3.\n",
      "[1, 2, 3, 4, 5, 6, 7, 8, 9, 10]\n",
      "[2, 0, 1, 0, 0, 0, 1, 2, 0, 1]\n",
      "[[7, 10, 3], [1, 8]]\n",
      "possible_players_subsequences:\n",
      "[[2, 3, 4], [2, 4, 6], [2, 6, 10], [3, 4, 5], [3, 5, 7], [3, 6, 9], [4, 5, 6], [4, 7, 10], [5, 6, 7], [5, 7, 9]]\n",
      "[[1, 5, 9], [2, 4, 6], [2, 5, 8], [4, 5, 6], [4, 6, 8]]\n",
      "score_players_subsequences:\n",
      "[1, 0, 1, 1, 2, 1, 0, 2, 1, 1]\n",
      "[1, 0, 1, 0, 1]\n",
      "Game has not ended yet.\n"
     ]
    }
   ],
   "source": [
    "print(g.subsequences)\n",
    "g.computer_movement(1,strategy=\"random\")\n",
    "g.losing_condition(1)\n",
    "g.draw_condition()"
   ]
  },
  {
   "cell_type": "code",
   "execution_count": 395,
   "id": "4d4f91eb",
   "metadata": {},
   "outputs": [
    {
     "name": "stdout",
     "output_type": "stream",
     "text": [
      "[[1, 2, 3], [1, 3, 5], [1, 4, 7], [1, 5, 9], [2, 3, 4], [2, 4, 6], [2, 5, 8], [2, 6, 10], [3, 4, 5], [3, 5, 7], [3, 6, 9], [4, 5, 6], [4, 6, 8], [4, 7, 10], [5, 6, 7], [5, 7, 9], [6, 7, 8], [6, 8, 10], [7, 8, 9], [8, 9, 10]]\n",
      "occurrences\n",
      "[inf, 2, inf, 3, 3, 3, inf, inf, 1, inf]\n",
      "prefer_field: 8\n",
      "Player 2 chooses number 9.\n",
      "[1, 2, 3, 4, 5, 6, 7, 8, 9, 10]\n",
      "[2, 0, 1, 0, 0, 0, 1, 2, 2, 1]\n",
      "[[7, 10, 3], [1, 8, 9]]\n",
      "possible_players_subsequences:\n",
      "[[2, 3, 4], [2, 4, 6], [2, 6, 10], [3, 4, 5], [3, 5, 7], [4, 5, 6], [4, 7, 10], [5, 6, 7]]\n",
      "[[1, 5, 9], [2, 4, 6], [2, 5, 8], [4, 5, 6], [4, 6, 8]]\n",
      "score_players_subsequences:\n",
      "[1, 0, 1, 1, 2, 0, 2, 1]\n",
      "[2, 0, 1, 0, 1]\n",
      "Game has not ended yet.\n"
     ]
    }
   ],
   "source": [
    "print(g.subsequences)\n",
    "g.computer_movement(2,strategy=\"defensive\")\n",
    "g.losing_condition(2)\n",
    "g.draw_condition()"
   ]
  },
  {
   "cell_type": "code",
   "execution_count": 396,
   "id": "ce5b802d",
   "metadata": {},
   "outputs": [
    {
     "name": "stdout",
     "output_type": "stream",
     "text": [
      "[[1, 2, 3], [1, 3, 5], [1, 4, 7], [1, 5, 9], [2, 3, 4], [2, 4, 6], [2, 5, 8], [2, 6, 10], [3, 4, 5], [3, 5, 7], [3, 6, 9], [4, 5, 6], [4, 6, 8], [4, 7, 10], [5, 6, 7], [5, 7, 9], [6, 7, 8], [6, 8, 10], [7, 8, 9], [8, 9, 10]]\n",
      "properties\n",
      "[2, 0, 1, 0, 0, 0, 1, 2, 2, 1]\n",
      "Player 1 chooses number 4.\n",
      "[1, 2, 3, 4, 5, 6, 7, 8, 9, 10]\n",
      "[2, 0, 1, 1, 0, 0, 1, 2, 2, 1]\n",
      "[[7, 10, 3, 4], [1, 8, 9]]\n",
      "possible_players_subsequences:\n",
      "[[2, 3, 4], [2, 4, 6], [2, 6, 10], [3, 4, 5], [3, 5, 7], [4, 5, 6], [4, 7, 10], [5, 6, 7]]\n",
      "[[1, 5, 9], [2, 5, 8]]\n",
      "score_players_subsequences:\n",
      "[2, 1, 1, 2, 2, 1, 3, 1]\n",
      "[2, 1]\n",
      "Player number 1 has lost.\n"
     ]
    }
   ],
   "source": [
    "print(g.subsequences)\n",
    "g.computer_movement(1,strategy=\"random\")\n",
    "g.losing_condition(1)\n",
    "g.draw_condition()"
   ]
  },
  {
   "cell_type": "code",
   "execution_count": null,
   "id": "40dd8528",
   "metadata": {},
   "outputs": [],
   "source": []
  },
  {
   "cell_type": "code",
   "execution_count": null,
   "id": "0556a08f",
   "metadata": {},
   "outputs": [],
   "source": []
  },
  {
   "cell_type": "code",
   "execution_count": null,
   "id": "cb437774",
   "metadata": {},
   "outputs": [],
   "source": []
  },
  {
   "cell_type": "code",
   "execution_count": 67,
   "id": "573579be",
   "metadata": {},
   "outputs": [
    {
     "name": "stdout",
     "output_type": "stream",
     "text": [
      "[[1, 2, 3], [1, 3, 5], [1, 4, 7], [1, 5, 9], [2, 3, 4], [2, 4, 6], [2, 5, 8], [2, 6, 10], [3, 4, 5], [3, 5, 7], [3, 6, 9], [4, 5, 6], [4, 6, 8], [4, 7, 10], [5, 6, 7], [5, 7, 9], [6, 7, 8], [6, 8, 10], [7, 8, 9], [8, 9, 10]]\n",
      "Player 1 chooses number 1.\n",
      "[1, 2, 3, 4, 5, 6, 7, 8, 9, 10]\n",
      "[1, 0, 0, 0, 0, 0, 0, 0, 0, 0]\n",
      "[[1], []]\n",
      "possible_players_subsequences:\n",
      "[[1, 2, 3], [1, 3, 5], [1, 4, 7], [1, 5, 9], [2, 3, 4], [2, 4, 6], [2, 5, 8], [2, 6, 10], [3, 4, 5], [3, 5, 7], [3, 6, 9], [4, 5, 6], [4, 6, 8], [4, 7, 10], [5, 6, 7], [5, 7, 9], [6, 7, 8], [6, 8, 10], [7, 8, 9], [8, 9, 10]]\n",
      "[[2, 3, 4], [2, 4, 6], [2, 5, 8], [2, 6, 10], [3, 4, 5], [3, 5, 7], [3, 6, 9], [4, 5, 6], [4, 6, 8], [4, 7, 10], [5, 6, 7], [5, 7, 9], [6, 7, 8], [6, 8, 10], [7, 8, 9], [8, 9, 10]]\n",
      "score_players_subsequences:\n",
      "[1, 1, 1, 1, 0, 0, 0, 0, 0, 0, 0, 0, 0, 0, 0, 0, 0, 0, 0, 0]\n",
      "[0, 0, 0, 0, 0, 0, 0, 0, 0, 0, 0, 0, 0, 0, 0, 0]\n",
      "Game has not ended yet.\n",
      "Player 2 chooses number 7.\n",
      "[1, 2, 3, 4, 5, 6, 7, 8, 9, 10]\n",
      "[1, 0, 0, 0, 0, 0, 2, 0, 0, 0]\n",
      "[[1], [7]]\n",
      "possible_players_subsequences:\n",
      "[[1, 2, 3], [1, 3, 5], [1, 5, 9], [2, 3, 4], [2, 4, 6], [2, 5, 8], [2, 6, 10], [3, 4, 5], [3, 6, 9], [4, 5, 6], [4, 6, 8], [6, 8, 10], [8, 9, 10]]\n",
      "[[2, 3, 4], [2, 4, 6], [2, 5, 8], [2, 6, 10], [3, 4, 5], [3, 5, 7], [3, 6, 9], [4, 5, 6], [4, 6, 8], [4, 7, 10], [5, 6, 7], [5, 7, 9], [6, 7, 8], [6, 8, 10], [7, 8, 9], [8, 9, 10]]\n",
      "score_players_subsequences:\n",
      "[1, 1, 1, 0, 0, 0, 0, 0, 0, 0, 0, 0, 0]\n",
      "[0, 0, 0, 0, 0, 1, 0, 0, 0, 1, 1, 1, 1, 0, 1, 0]\n",
      "Game has not ended yet.\n",
      "Number 7 is already occupied. Choose another number.\n",
      "Player 1 chooses number 2.\n",
      "[1, 2, 3, 4, 5, 6, 7, 8, 9, 10]\n",
      "[1, 1, 0, 0, 0, 0, 2, 0, 0, 0]\n",
      "[[1, 2], [7]]\n",
      "possible_players_subsequences:\n",
      "[[1, 2, 3], [1, 3, 5], [1, 5, 9], [2, 3, 4], [2, 4, 6], [2, 5, 8], [2, 6, 10], [3, 4, 5], [3, 6, 9], [4, 5, 6], [4, 6, 8], [6, 8, 10], [8, 9, 10]]\n",
      "[[3, 4, 5], [3, 5, 7], [3, 6, 9], [4, 5, 6], [4, 6, 8], [4, 7, 10], [5, 6, 7], [5, 7, 9], [6, 7, 8], [6, 8, 10], [7, 8, 9], [8, 9, 10]]\n",
      "score_players_subsequences:\n",
      "[2, 1, 1, 1, 1, 1, 1, 0, 0, 0, 0, 0, 0]\n",
      "[0, 1, 0, 0, 0, 1, 1, 1, 1, 0, 1, 0]\n",
      "Game has not ended yet.\n",
      "Player 2 chooses number 9.\n",
      "[1, 2, 3, 4, 5, 6, 7, 8, 9, 10]\n",
      "[1, 1, 0, 0, 0, 0, 2, 0, 2, 0]\n",
      "[[1, 2], [7, 9]]\n",
      "possible_players_subsequences:\n",
      "[[1, 2, 3], [1, 3, 5], [2, 3, 4], [2, 4, 6], [2, 5, 8], [2, 6, 10], [3, 4, 5], [4, 5, 6], [4, 6, 8], [6, 8, 10]]\n",
      "[[3, 4, 5], [3, 5, 7], [3, 6, 9], [4, 5, 6], [4, 6, 8], [4, 7, 10], [5, 6, 7], [5, 7, 9], [6, 7, 8], [6, 8, 10], [7, 8, 9], [8, 9, 10]]\n",
      "score_players_subsequences:\n",
      "[2, 1, 1, 1, 1, 1, 0, 0, 0, 0]\n",
      "[0, 1, 1, 0, 0, 1, 1, 2, 1, 0, 2, 1]\n",
      "Game has not ended yet.\n",
      "Player 1 chooses number 3.\n",
      "[1, 2, 3, 4, 5, 6, 7, 8, 9, 10]\n",
      "[1, 1, 1, 0, 0, 0, 2, 0, 2, 0]\n",
      "[[1, 2, 3], [7, 9]]\n",
      "possible_players_subsequences:\n",
      "[[1, 2, 3], [1, 3, 5], [2, 3, 4], [2, 4, 6], [2, 5, 8], [2, 6, 10], [3, 4, 5], [4, 5, 6], [4, 6, 8], [6, 8, 10]]\n",
      "[[4, 5, 6], [4, 6, 8], [4, 7, 10], [5, 6, 7], [5, 7, 9], [6, 7, 8], [6, 8, 10], [7, 8, 9], [8, 9, 10]]\n",
      "score_players_subsequences:\n",
      "[3, 2, 2, 1, 1, 1, 1, 0, 0, 0]\n",
      "[0, 0, 1, 1, 2, 1, 0, 2, 1]\n",
      "Player number 1 has lost.\n"
     ]
    }
   ],
   "source": [
    "g = Game(10,3)\n",
    "print(g.subsequences)\n",
    "g.choose_number(1,1)\n",
    "g.losing_condition(1)\n",
    "g.draw_condition()\n",
    "\n",
    "g.choose_number(2,7)\n",
    "g.losing_condition(2)\n",
    "g.choose_number(1,7)\n",
    "g.choose_number(1,2)\n",
    "g.losing_condition(1)\n",
    "g.choose_number(2,9)\n",
    "g.losing_condition(2)\n",
    "g.choose_number(1,3)\n",
    "g.losing_condition(1)"
   ]
  },
  {
   "cell_type": "code",
   "execution_count": null,
   "id": "3b41896f",
   "metadata": {},
   "outputs": [],
   "source": []
  },
  {
   "cell_type": "code",
   "execution_count": null,
   "id": "e8f389c0",
   "metadata": {},
   "outputs": [],
   "source": []
  },
  {
   "cell_type": "code",
   "execution_count": null,
   "id": "e3e07e42",
   "metadata": {},
   "outputs": [],
   "source": []
  },
  {
   "cell_type": "code",
   "execution_count": 361,
   "id": "5a9ad2d5",
   "metadata": {},
   "outputs": [
    {
     "name": "stdout",
     "output_type": "stream",
     "text": [
      "[[1, 2, 3], [1, 3, 5], [1, 4, 7], [1, 5, 9], [2, 3, 4], [2, 4, 6], [2, 5, 8], [2, 6, 10], [3, 4, 5], [3, 5, 7], [3, 6, 9], [4, 5, 6], [4, 6, 8], [4, 7, 10], [5, 6, 7], [5, 7, 9], [6, 7, 8], [6, 8, 10], [7, 8, 9], [8, 9, 10]]\n",
      "properties\n",
      "[0, 0, 0, 0, 0, 0, 0, 0, 0, 0]\n",
      "Player 1 chooses number 5.\n",
      "[1, 2, 3, 4, 5, 6, 7, 8, 9, 10]\n",
      "[0, 0, 0, 0, 1, 0, 0, 0, 0, 0]\n",
      "[[5], []]\n",
      "possible_players_subsequences:\n",
      "[[1, 2, 3], [1, 3, 5], [1, 4, 7], [1, 5, 9], [2, 3, 4], [2, 4, 6], [2, 5, 8], [2, 6, 10], [3, 4, 5], [3, 5, 7], [3, 6, 9], [4, 5, 6], [4, 6, 8], [4, 7, 10], [5, 6, 7], [5, 7, 9], [6, 7, 8], [6, 8, 10], [7, 8, 9], [8, 9, 10]]\n",
      "[[1, 2, 3], [1, 4, 7], [2, 3, 4], [2, 4, 6], [2, 6, 10], [3, 6, 9], [4, 6, 8], [4, 7, 10], [6, 7, 8], [6, 8, 10], [7, 8, 9], [8, 9, 10]]\n",
      "score_players_subsequences:\n",
      "[0, 1, 0, 1, 0, 0, 1, 0, 1, 1, 0, 1, 0, 0, 1, 1, 0, 0, 0, 0]\n",
      "[0, 0, 0, 0, 0, 0, 0, 0, 0, 0, 0, 0]\n",
      "Game has not ended yet.\n"
     ]
    }
   ],
   "source": [
    "g=Game(10,3)\n",
    "print(g.subsequences)\n",
    "g.computer_movement(1,strategy=\"random\")\n",
    "g.losing_condition(1)\n",
    "g.draw_condition()"
   ]
  },
  {
   "cell_type": "code",
   "execution_count": 362,
   "id": "c7b372a7",
   "metadata": {},
   "outputs": [
    {
     "name": "stdout",
     "output_type": "stream",
     "text": [
      "occurrences\n",
      "[4, 5, 6, 7, inf, 8, 7, 6, 5, 4]\n",
      "prefer_field: 0\n",
      "Player 2 chooses number 1.\n",
      "[1, 2, 3, 4, 5, 6, 7, 8, 9, 10]\n",
      "[2, 0, 0, 0, 1, 0, 0, 0, 0, 0]\n",
      "[[5], [1]]\n",
      "possible_players_subsequences:\n",
      "[[2, 3, 4], [2, 4, 6], [2, 5, 8], [2, 6, 10], [3, 4, 5], [3, 5, 7], [3, 6, 9], [4, 5, 6], [4, 6, 8], [4, 7, 10], [5, 6, 7], [5, 7, 9], [6, 7, 8], [6, 8, 10], [7, 8, 9], [8, 9, 10]]\n",
      "[[1, 2, 3], [1, 4, 7], [2, 3, 4], [2, 4, 6], [2, 6, 10], [3, 6, 9], [4, 6, 8], [4, 7, 10], [6, 7, 8], [6, 8, 10], [7, 8, 9], [8, 9, 10]]\n",
      "score_players_subsequences:\n",
      "[0, 0, 1, 0, 1, 1, 0, 1, 0, 0, 1, 1, 0, 0, 0, 0]\n",
      "[1, 1, 0, 0, 0, 0, 0, 0, 0, 0, 0, 0]\n",
      "Game has not ended yet.\n"
     ]
    }
   ],
   "source": [
    "g.computer_movement(2,strategy=\"offensive\")\n",
    "g.losing_condition(2)\n",
    "g.draw_condition()"
   ]
  },
  {
   "cell_type": "code",
   "execution_count": 363,
   "id": "8bfd22bb",
   "metadata": {},
   "outputs": [
    {
     "name": "stdout",
     "output_type": "stream",
     "text": [
      "properties\n",
      "[2, 0, 0, 0, 1, 0, 0, 0, 0, 0]\n",
      "Player 1 chooses number 4.\n",
      "[1, 2, 3, 4, 5, 6, 7, 8, 9, 10]\n",
      "[2, 0, 0, 1, 1, 0, 0, 0, 0, 0]\n",
      "[[5, 4], [1]]\n",
      "possible_players_subsequences:\n",
      "[[2, 3, 4], [2, 4, 6], [2, 5, 8], [2, 6, 10], [3, 4, 5], [3, 5, 7], [3, 6, 9], [4, 5, 6], [4, 6, 8], [4, 7, 10], [5, 6, 7], [5, 7, 9], [6, 7, 8], [6, 8, 10], [7, 8, 9], [8, 9, 10]]\n",
      "[[1, 2, 3], [2, 6, 10], [3, 6, 9], [6, 7, 8], [6, 8, 10], [7, 8, 9], [8, 9, 10]]\n",
      "score_players_subsequences:\n",
      "[1, 1, 1, 0, 2, 1, 0, 2, 1, 1, 1, 1, 0, 0, 0, 0]\n",
      "[1, 0, 0, 0, 0, 0, 0]\n",
      "Game has not ended yet.\n"
     ]
    }
   ],
   "source": [
    "g.computer_movement(1,strategy=\"random\")\n",
    "g.losing_condition(1)\n",
    "g.draw_condition()"
   ]
  },
  {
   "cell_type": "code",
   "execution_count": 364,
   "id": "a5c032c4",
   "metadata": {},
   "outputs": [
    {
     "name": "stdout",
     "output_type": "stream",
     "text": [
      "occurrences\n",
      "[inf, 4, 4, inf, inf, 8, 6, 6, 4, 4]\n",
      "prefer_field: 1\n",
      "Player 2 chooses number 2.\n",
      "[1, 2, 3, 4, 5, 6, 7, 8, 9, 10]\n",
      "[2, 2, 0, 1, 1, 0, 0, 0, 0, 0]\n",
      "[[5, 4], [1, 2]]\n",
      "possible_players_subsequences:\n",
      "[[3, 4, 5], [3, 5, 7], [3, 6, 9], [4, 5, 6], [4, 6, 8], [4, 7, 10], [5, 6, 7], [5, 7, 9], [6, 7, 8], [6, 8, 10], [7, 8, 9], [8, 9, 10]]\n",
      "[[1, 2, 3], [2, 6, 10], [3, 6, 9], [6, 7, 8], [6, 8, 10], [7, 8, 9], [8, 9, 10]]\n",
      "score_players_subsequences:\n",
      "[2, 1, 0, 2, 1, 1, 1, 1, 0, 0, 0, 0]\n",
      "[2, 1, 0, 0, 0, 0, 0]\n",
      "Game has not ended yet.\n"
     ]
    }
   ],
   "source": [
    "g.computer_movement(2,strategy=\"offensive\")\n",
    "g.losing_condition(2)\n",
    "g.draw_condition()"
   ]
  },
  {
   "cell_type": "code",
   "execution_count": 365,
   "id": "3686d3d5",
   "metadata": {},
   "outputs": [
    {
     "name": "stdout",
     "output_type": "stream",
     "text": [
      "properties\n",
      "[2, 2, 0, 1, 1, 0, 0, 0, 0, 0]\n",
      "Player 1 chooses number 9.\n",
      "[1, 2, 3, 4, 5, 6, 7, 8, 9, 10]\n",
      "[2, 2, 0, 1, 1, 0, 0, 0, 1, 0]\n",
      "[[5, 4, 9], [1, 2]]\n",
      "possible_players_subsequences:\n",
      "[[3, 4, 5], [3, 5, 7], [3, 6, 9], [4, 5, 6], [4, 6, 8], [4, 7, 10], [5, 6, 7], [5, 7, 9], [6, 7, 8], [6, 8, 10], [7, 8, 9], [8, 9, 10]]\n",
      "[[1, 2, 3], [2, 6, 10], [6, 7, 8], [6, 8, 10]]\n",
      "score_players_subsequences:\n",
      "[2, 1, 1, 2, 1, 1, 1, 2, 0, 0, 1, 1]\n",
      "[2, 1, 0, 0]\n",
      "Game has not ended yet.\n"
     ]
    }
   ],
   "source": [
    "g.computer_movement(1,strategy=\"random\")\n",
    "g.losing_condition(1)\n",
    "g.draw_condition()"
   ]
  },
  {
   "cell_type": "code",
   "execution_count": 366,
   "id": "9855d1aa",
   "metadata": {},
   "outputs": [
    {
     "name": "stdout",
     "output_type": "stream",
     "text": [
      "occurrences\n",
      "[inf, inf, inf, inf, inf, inf, inf, inf, inf, inf]\n",
      "properties\n",
      "[2, 2, 0, 1, 1, 0, 0, 0, 1, 0]\n",
      "prefer_field: 2\n",
      "Player 2 chooses number 3.\n",
      "[1, 2, 3, 4, 5, 6, 7, 8, 9, 10]\n",
      "[2, 2, 2, 1, 1, 0, 0, 0, 1, 0]\n",
      "[[5, 4, 9], [1, 2, 3]]\n",
      "possible_players_subsequences:\n",
      "[[4, 5, 6], [4, 6, 8], [4, 7, 10], [5, 6, 7], [5, 7, 9], [6, 7, 8], [6, 8, 10], [7, 8, 9], [8, 9, 10]]\n",
      "[[1, 2, 3], [2, 6, 10], [6, 7, 8], [6, 8, 10]]\n",
      "score_players_subsequences:\n",
      "[2, 1, 1, 1, 2, 0, 0, 1, 1]\n",
      "[3, 1, 0, 0]\n",
      "Player number 2 has lost.\n"
     ]
    }
   ],
   "source": [
    "g.computer_movement(2,strategy=\"offensive\")\n",
    "g.losing_condition(2)\n",
    "g.draw_condition()"
   ]
  },
  {
   "cell_type": "code",
   "execution_count": null,
   "id": "c90cc8bc",
   "metadata": {},
   "outputs": [],
   "source": []
  },
  {
   "cell_type": "code",
   "execution_count": null,
   "id": "e652a63d",
   "metadata": {},
   "outputs": [],
   "source": []
  },
  {
   "cell_type": "code",
   "execution_count": null,
   "id": "bc6a4aa7",
   "metadata": {},
   "outputs": [],
   "source": []
  },
  {
   "cell_type": "code",
   "execution_count": null,
   "id": "58e500fd",
   "metadata": {},
   "outputs": [],
   "source": []
  },
  {
   "cell_type": "code",
   "execution_count": null,
   "id": "90a6ee44",
   "metadata": {},
   "outputs": [],
   "source": []
  },
  {
   "cell_type": "code",
   "execution_count": null,
   "id": "b95e7cbe",
   "metadata": {},
   "outputs": [],
   "source": []
  },
  {
   "cell_type": "code",
   "execution_count": null,
   "id": "e2a041a0",
   "metadata": {},
   "outputs": [],
   "source": []
  }
 ],
 "metadata": {
  "kernelspec": {
   "display_name": "Python 3 (ipykernel)",
   "language": "python",
   "name": "python3"
  },
  "language_info": {
   "codemirror_mode": {
    "name": "ipython",
    "version": 3
   },
   "file_extension": ".py",
   "mimetype": "text/x-python",
   "name": "python",
   "nbconvert_exporter": "python",
   "pygments_lexer": "ipython3",
   "version": "3.8.3"
  }
 },
 "nbformat": 4,
 "nbformat_minor": 5
}
